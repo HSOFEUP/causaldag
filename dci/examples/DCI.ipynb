{
 "cells": [
  {
   "cell_type": "markdown",
   "metadata": {},
   "source": [
    "# Difference Causal Inference (DCI) Tutorial for Gene Expression Data\n",
    "- DCI [1,2] directly estimates the differences between two causal graphs given gene expression data from two conditions such as healthy and diseased states, different cell types or different time points.\n",
    "- Changes between two causal graphs are the edges that appeared, disappeared or changed weight between the two states.\n",
    "- DCI infers the differences between causal graphs directly without estimating each possibly large causal graph separately.\n",
    "\n",
    "\n",
    "In this tutorial, we apply DCI to bulk RNA-seq data collected from two ovarian cancer patient cohorts with\n",
    "different survival rates to obtain the causal difference gene regulatory network. For applications of DCI to larger gene expression datasets, we recommend running DCI on a subset of genes (e.g. differentially expressed genes). For most robust results, we recommend using DCI with stability selection [3].\n",
    "\n",
    "DCI algorithm consists of three main steps:\n",
    "1. Initialization with a difference undirected graph.\n",
    "2. Estimation of the skeleton of the difference causal graph.\n",
    "3. Orienting edges in the difference causal graph.\n",
    "\n",
    "References:\n",
    "\n",
    "[1] Belyaeva, A., Squires, C., & Uhler, C. (2020). DCI: Learning Causal Differences between Gene Regulatory Networks. In submission.           \n",
    "[2] Wang, Y., Squires, C., Belyaeva, A., & Uhler, C. (2018). Direct estimation of differences in causal graphs. In Advances in Neural Information Processing Systems (pp. 3770-3781).                        \n",
    "[3] Meinshausen, N. and Buhlmann, P. (2010). Stability selection.\n",
    "Journal of the Royal Statistical Society: Series B (Statistical Methodology), 72(4), pp.417-473.\n",
    "\n",
    "### Table of Contents\n",
    "\n",
    "<a href='#install'>Installation</a>\n",
    "<br/>\n",
    "<a href='#data'>Loading data</a>\n",
    "<br/>\n",
    "<a href='#pre'>Data preprocessing</a>\n",
    "<br/>\n",
    "<a href='#DCI'>Running DCI</a>\n",
    "<br/>\n",
    "<a href='#graph'>Visualizing difference causal graph</a>\n",
    "<br/>\n",
    "<a href='#DCI_stability'>Running DCI with stability selection</a>\n",
    "<br/>"
   ]
  },
  {
   "cell_type": "markdown",
   "metadata": {},
   "source": [
    "<a id=\"install\"></a>\n",
    "\n",
    "### Installation \n",
    "\n",
    "DCI can be installed directly in this notebook with:"
   ]
  },
  {
   "cell_type": "code",
   "execution_count": 1,
   "metadata": {},
   "outputs": [
    {
     "name": "stdout",
     "output_type": "stream",
     "text": [
      "Requirement already satisfied: causaldag in /home/anastasiya/.local/lib/python3.8/site-packages (0.1a132)\n",
      "Requirement already satisfied: dataclasses in /home/anastasiya/.local/lib/python3.8/site-packages (from causaldag) (0.6)\n",
      "Requirement already satisfied: numpy in /home/anastasiya/.local/lib/python3.8/site-packages (from causaldag) (1.18.3)\n",
      "Requirement already satisfied: numba in /home/anastasiya/.local/lib/python3.8/site-packages (from causaldag) (0.49.0)\n",
      "Requirement already satisfied: matplotlib in /home/anastasiya/.local/lib/python3.8/site-packages (from causaldag) (3.2.1)\n",
      "Requirement already satisfied: networkx in /home/anastasiya/.local/lib/python3.8/site-packages (from causaldag) (2.4)\n",
      "Requirement already satisfied: pandas in /home/anastasiya/.local/lib/python3.8/site-packages (from causaldag) (1.0.3)\n",
      "Requirement already satisfied: scipy in /home/anastasiya/.local/lib/python3.8/site-packages (from causaldag) (1.4.1)\n",
      "Requirement already satisfied: typing in /home/anastasiya/.local/lib/python3.8/site-packages (from causaldag) (3.7.4.1)\n",
      "Requirement already satisfied: joblib in /home/anastasiya/.local/lib/python3.8/site-packages (from causaldag) (0.14.1)\n",
      "Requirement already satisfied: pygam in /home/anastasiya/.local/lib/python3.8/site-packages (from causaldag) (0.8.0)\n",
      "Requirement already satisfied: scikit-learn in /home/anastasiya/.local/lib/python3.8/site-packages (from causaldag) (0.22.2.post1)\n",
      "Requirement already satisfied: setuptools in /home/anastasiya/.conda/envs/causaldag2/lib/python3.8/site-packages (from numba->causaldag) (46.1.3.post20200330)\n",
      "Requirement already satisfied: llvmlite<=0.33.0.dev0,>=0.31.0.dev0 in /home/anastasiya/.local/lib/python3.8/site-packages (from numba->causaldag) (0.32.0)\n",
      "Requirement already satisfied: pyparsing!=2.0.4,!=2.1.2,!=2.1.6,>=2.0.1 in /home/anastasiya/.local/lib/python3.8/site-packages (from matplotlib->causaldag) (2.4.7)\n",
      "Requirement already satisfied: kiwisolver>=1.0.1 in /home/anastasiya/.local/lib/python3.8/site-packages (from matplotlib->causaldag) (1.2.0)\n",
      "Requirement already satisfied: cycler>=0.10 in /home/anastasiya/.local/lib/python3.8/site-packages (from matplotlib->causaldag) (0.10.0)\n",
      "Requirement already satisfied: python-dateutil>=2.1 in /home/anastasiya/.conda/envs/causaldag2/lib/python3.8/site-packages (from matplotlib->causaldag) (2.8.1)\n",
      "Requirement already satisfied: decorator>=4.3.0 in /home/anastasiya/.conda/envs/causaldag2/lib/python3.8/site-packages (from networkx->causaldag) (4.4.2)\n",
      "Requirement already satisfied: pytz>=2017.2 in /home/anastasiya/.local/lib/python3.8/site-packages (from pandas->causaldag) (2019.3)\n",
      "Requirement already satisfied: future in /home/anastasiya/.local/lib/python3.8/site-packages (from pygam->causaldag) (0.18.2)\n",
      "Requirement already satisfied: progressbar2 in /home/anastasiya/.local/lib/python3.8/site-packages (from pygam->causaldag) (3.51.0)\n",
      "Requirement already satisfied: six in /home/anastasiya/.conda/envs/causaldag2/lib/python3.8/site-packages (from cycler>=0.10->matplotlib->causaldag) (1.14.0)\n",
      "Requirement already satisfied: python-utils>=2.3.0 in /home/anastasiya/.local/lib/python3.8/site-packages (from progressbar2->pygam->causaldag) (2.4.0)\n"
     ]
    }
   ],
   "source": [
    "!pip install --user causaldag"
   ]
  },
  {
   "cell_type": "markdown",
   "metadata": {},
   "source": [
    "Import causaldag package that DCI is part of as well as auxilary python packages for data processing and plotting."
   ]
  },
  {
   "cell_type": "code",
   "execution_count": 2,
   "metadata": {
    "collapsed": true
   },
   "outputs": [],
   "source": [
    "from causaldag import dci, dci_stability_selection\n",
    "from causaldag import get_directed_and_undirected_edges\n",
    "import os\n",
    "import numpy as np\n",
    "import pandas as pd\n",
    "import matplotlib.pyplot as plt\n",
    "import networkx as nx\n",
    "from sklearn.preprocessing import StandardScaler\n",
    "\n",
    "# Matplotlib command for Jupyter notebooks only\n",
    "%matplotlib inline"
   ]
  },
  {
   "cell_type": "markdown",
   "metadata": {},
   "source": [
    "<a id=\"data\"></a>\n",
    "\n",
    "### Loading data\n",
    "\n",
    "Read in two gene expression datasets, corresponding to two conditions of interest. DCI expects two matrices of size $n_1 \\times p$ and $n_2 \\times p$, where $n_1$ and $n_2$ are the number of samples in each dataset and $p$ corresponds to the number of genes. We recommend transforming RNA-seq counts with $\\log(x + 1)$ such that the distribution of each gene is approximately Gaussian. "
   ]
  },
  {
   "cell_type": "code",
   "execution_count": 3,
   "metadata": {
    "collapsed": true
   },
   "outputs": [],
   "source": [
    "path_in = 'data/'\n",
    "gene_exp_diff_1 = pd.read_csv(os.path.join(path_in, 'apoptosis_1.csv'), index_col=0)\n",
    "gene_exp_diff_2 = pd.read_csv(os.path.join(path_in, 'apoptosis_2.csv'), index_col=0)\n",
    "gene_names = gene_exp_diff_1.columns.values"
   ]
  },
  {
   "cell_type": "code",
   "execution_count": 4,
   "metadata": {},
   "outputs": [
    {
     "data": {
      "text/plain": [
       "((83, 10), (168, 10))"
      ]
     },
     "execution_count": 4,
     "metadata": {},
     "output_type": "execute_result"
    }
   ],
   "source": [
    "gene_exp_diff_1.shape, gene_exp_diff_2.shape"
   ]
  },
  {
   "cell_type": "code",
   "execution_count": 5,
   "metadata": {},
   "outputs": [
    {
     "data": {
      "text/plain": [
       "array(['TP53', 'TNFSF10', 'IL1R1', 'PRKAR2B', 'FAS', 'ENDOG', 'CSF2RB',\n",
       "       'AIFM1', 'BIRC3', 'PIK3R1'], dtype=object)"
      ]
     },
     "execution_count": 5,
     "metadata": {},
     "output_type": "execute_result"
    }
   ],
   "source": [
    "gene_names"
   ]
  },
  {
   "cell_type": "markdown",
   "metadata": {},
   "source": [
    "<a id=\"pre\"></a>\n",
    "### Data preprocessing\n",
    "Prior to running DCI, the data should be at least mean cenetered (along with any other transformations)."
   ]
  },
  {
   "cell_type": "code",
   "execution_count": 6,
   "metadata": {
    "collapsed": true
   },
   "outputs": [],
   "source": [
    "scaler = StandardScaler(with_std=False)\n",
    "X1 = scaler.fit_transform(gene_exp_diff_1.values)\n",
    "X2 = scaler.fit_transform(gene_exp_diff_2.values)"
   ]
  },
  {
   "cell_type": "markdown",
   "metadata": {},
   "source": [
    "<a id=\"DCI\"></a>\n",
    "### Running DCI\n",
    "Run DCI on the two datasets with default parameters or by specifying your own hyperparameters."
   ]
  },
  {
   "cell_type": "code",
   "execution_count": 12,
   "metadata": {},
   "outputs": [
    {
     "name": "stdout",
     "output_type": "stream",
     "text": [
      "Running KLIEP to get difference undirected graph...\n",
      "Maximum iteration reached\n",
      "Difference undirected graph:  [(0, 2), (0, 4), (0, 8), (0, 9), (1, 3), (1, 4), (1, 5), (1, 6), (1, 7), (1, 8), (1, 9), (2, 3), (2, 4), (2, 6), (2, 9), (3, 4), (3, 5), (3, 6), (3, 7), (3, 8), (3, 9), (4, 5), (4, 6), (4, 7), (4, 8), (4, 9), (5, 6), (5, 8), (5, 9), (6, 7), (6, 8), (7, 8), (7, 9), (8, 9)]\n",
      "DCI skeleton estimation...\n",
      "Removing edge 0-2 since p-value=0.82759 > alpha=0.50000\n",
      "Removing edge 0-4 since p-value=0.56434 < alpha=0.50000\n",
      "Removing edge 0-8 since p-value=0.57503 > alpha=0.50000\n",
      "Removing edge 0-9 since p-value=0.95151 > alpha=0.50000\n",
      "Removing edge 1-3 since p-value=0.55181 > alpha=0.50000\n",
      "Removing edge 1-4 since p-value=0.77913 > alpha=0.50000\n",
      "Removing edge 1-6 since p-value=0.64699 < alpha=0.50000\n",
      "Removing edge 1-7 since p-value=0.51028 < alpha=0.50000\n",
      "Removing edge 1-8 since p-value=0.62069 < alpha=0.50000\n",
      "Removing edge 1-9 since p-value=0.84008 > alpha=0.50000\n",
      "Removing edge 2-3 since p-value=0.59656 < alpha=0.50000\n",
      "Removing edge 2-4 since p-value=0.54203 < alpha=0.50000\n",
      "Removing edge 2-9 since p-value=0.70060 > alpha=0.50000\n",
      "Removing edge 3-4 since p-value=0.97752 > alpha=0.50000\n",
      "Removing edge 3-5 since p-value=0.79810 > alpha=0.50000\n",
      "Removing edge 3-6 since p-value=0.72510 > alpha=0.50000\n",
      "Removing edge 3-7 since p-value=0.54904 < alpha=0.50000\n",
      "Removing edge 3-9 since p-value=0.71211 < alpha=0.50000\n",
      "Removing edge 4-5 since p-value=0.70280 > alpha=0.50000\n",
      "Removing edge 4-6 since p-value=0.65148 > alpha=0.50000\n",
      "Removing edge 4-7 since p-value=0.50519 > alpha=0.50000\n",
      "Removing edge 4-8 since p-value=0.96052 > alpha=0.50000\n",
      "Removing edge 4-9 since p-value=0.70320 < alpha=0.50000\n",
      "Removing edge 5-6 since p-value=0.64493 < alpha=0.50000\n",
      "Removing edge 5-8 since p-value=0.66995 < alpha=0.50000\n",
      "Removing edge 6-7 since p-value=0.51135 < alpha=0.50000\n",
      "Removing edge 6-8 since p-value=0.63820 > alpha=0.50000\n",
      "Removing edge 7-9 since p-value=0.61907 > alpha=0.50000\n",
      "Removing edge 8-9 since p-value=0.67268 > alpha=0.50000\n",
      "DCI edge orientation...\n",
      "Oriented (5, 9) as (5, 9) since p-value=0.00100 > alpha=0.00100\n",
      "Oriented (1, 5) as (5, 1) since p-value=0.00100 > alpha=0.00100\n",
      "Oriented (3, 8) as (3, 8) since p-value=0.01109 > alpha=0.00100\n",
      "Oriented (2, 6) as (6, 2) since p-value=0.00288 > alpha=0.00100\n",
      "Oriented (7, 8) as (7, 8) since p-value=0.23781 > alpha=0.00100\n"
     ]
    }
   ],
   "source": [
    "d_dag = dci(X1, X2, alpha_ug = 0.001, alpha_skeleton=0.5, alpha_orient=0.001, max_set_size=3, verbose=1)"
   ]
  },
  {
   "cell_type": "markdown",
   "metadata": {
    "collapsed": true
   },
   "source": [
    "<a id=\"graph\"></a>\n",
    "### Visualizing causal graphs\n",
    "Plot directed and undirected edges corresponding to the estimated difference causal graph."
   ]
  },
  {
   "cell_type": "code",
   "execution_count": 13,
   "metadata": {
    "collapsed": true
   },
   "outputs": [],
   "source": [
    "def visualize_ddag(d_dag, gene_names):\n",
    "    \"\"\"\n",
    "    Plots causal graph.\n",
    "\n",
    "    Parameters\n",
    "    ----------\n",
    "    d_dag: array, shape = [n_features, n_features]\n",
    "        Adjacency matrix corresponding to partially directed acyclic graph (can contain both directed and undirected edges.)\n",
    "    gene_names: array, shape = [n_features,]\n",
    "        Names of genes corresponding to each node in the d_dag.\n",
    "    \"\"\"\n",
    "    # obtain directed and undirected edges separately\n",
    "    ddag_directed, ddag_undirected = get_directed_and_undirected_edges(d_dag)\n",
    "    # construct networkx graphs for directed and undirected edges separately and together\n",
    "    G = nx.from_numpy_matrix(d_dag, create_using=nx.MultiDiGraph())\n",
    "    G_directed = nx.from_numpy_matrix(ddag_directed, create_using=nx.MultiDiGraph())\n",
    "    G_undirected = nx.from_numpy_matrix(ddag_undirected, create_using=nx.Graph())\n",
    "    # rename nodes from numbers to gene names\n",
    "    node_label_mapping = {}\n",
    "    for i in range(len(gene_names)):\n",
    "        node_label_mapping[i] = gene_names[i]\n",
    "    G = nx.relabel_nodes(G, node_label_mapping)\n",
    "    G_directed = nx.relabel_nodes(G_directed, node_label_mapping)\n",
    "    G_undirected = nx.relabel_nodes(G_undirected, node_label_mapping)\n",
    "    # draw causal graph\n",
    "    pos = nx.circular_layout(G)\n",
    "    nx.draw(G_directed, arrowstyle='->', arrowsize=20, width = 2, with_labels=True, pos=pos)\n",
    "    nx.draw(G_undirected, width = 2, with_labels=True, pos=pos)"
   ]
  },
  {
   "cell_type": "code",
   "execution_count": 14,
   "metadata": {},
   "outputs": [
    {
     "data": {
      "image/png": "[encoded data removed]",
      "text/plain": [
       "<Figure size 432x288 with 1 Axes>"
      ]
     },
     "metadata": {},
     "output_type": "display_data"
    }
   ],
   "source": [
    "visualize_ddag(d_dag, gene_names)"
   ]
  },
  {
   "cell_type": "markdown",
   "metadata": {},
   "source": [
    "<a id=\"DCI_stability\"></a>\n",
    "### Running DCI with stability selection\n",
    "Since running DCI requires choosing several hyperparameters, we also implemented DCI with stability selection, which computes the difference causal graph that is robust across different hyperparameter settings. There are three main hyperparameters corresponding to the three steps of the DCI algorithm:\n",
    "1. List of hyperparameters for L1 regularization of the KLIEP algorithm, which computes the difference undirected graph (alpha_ug_grid).\n",
    "2. List of significance levels for hypothesis testing to determine the skeleton of the difference causal graph (alpha_skeleton_grid).\n",
    "3. List of significance levels for hypothesis testing to orient edges of the difference causal graph (alpha_orient_grid).\n",
    "\n",
    "To speed up computation, we recommend to run DCI with stability selection in parallel."
   ]
  },
  {
   "cell_type": "code",
   "execution_count": 15,
   "metadata": {},
   "outputs": [
    {
     "name": "stdout",
     "output_type": "stream",
     "text": [
      "Fitting estimator for alpha_ug = 0.00100, alpha_skeleton = 0.10000, alpha_orient = 0.00100 with 50 bootstrap iterations\n"
     ]
    },
    {
     "name": "stderr",
     "output_type": "stream",
     "text": [
      "[Parallel(n_jobs=10)]: Using backend LokyBackend with 10 concurrent workers.\n",
      "[Parallel(n_jobs=10)]: Done  30 tasks      | elapsed:    3.4s\n",
      "[Parallel(n_jobs=10)]: Done  50 out of  50 | elapsed:    4.3s finished\n",
      "[Parallel(n_jobs=10)]: Using backend LokyBackend with 10 concurrent workers.\n"
     ]
    },
    {
     "name": "stdout",
     "output_type": "stream",
     "text": [
      "Fitting estimator for alpha_ug = 0.00100, alpha_skeleton = 0.10000, alpha_orient = 0.01000 with 50 bootstrap iterations\n"
     ]
    },
    {
     "name": "stderr",
     "output_type": "stream",
     "text": [
      "[Parallel(n_jobs=10)]: Done  30 tasks      | elapsed:    1.9s\n",
      "[Parallel(n_jobs=10)]: Done  50 out of  50 | elapsed:    2.8s finished\n",
      "[Parallel(n_jobs=10)]: Using backend LokyBackend with 10 concurrent workers.\n"
     ]
    },
    {
     "name": "stdout",
     "output_type": "stream",
     "text": [
      "Fitting estimator for alpha_ug = 0.00100, alpha_skeleton = 0.50000, alpha_orient = 0.00100 with 50 bootstrap iterations\n"
     ]
    },
    {
     "name": "stderr",
     "output_type": "stream",
     "text": [
      "[Parallel(n_jobs=10)]: Done  30 tasks      | elapsed:    2.4s\n",
      "[Parallel(n_jobs=10)]: Done  50 out of  50 | elapsed:    3.7s finished\n",
      "[Parallel(n_jobs=10)]: Using backend LokyBackend with 10 concurrent workers.\n"
     ]
    },
    {
     "name": "stdout",
     "output_type": "stream",
     "text": [
      "Fitting estimator for alpha_ug = 0.00100, alpha_skeleton = 0.50000, alpha_orient = 0.01000 with 50 bootstrap iterations\n"
     ]
    },
    {
     "name": "stderr",
     "output_type": "stream",
     "text": [
      "[Parallel(n_jobs=10)]: Done  30 tasks      | elapsed:    2.8s\n",
      "[Parallel(n_jobs=10)]: Done  50 out of  50 | elapsed:    4.2s finished\n",
      "[Parallel(n_jobs=10)]: Using backend LokyBackend with 10 concurrent workers.\n"
     ]
    },
    {
     "name": "stdout",
     "output_type": "stream",
     "text": [
      "Fitting estimator for alpha_ug = 0.01000, alpha_skeleton = 0.10000, alpha_orient = 0.00100 with 50 bootstrap iterations\n"
     ]
    },
    {
     "name": "stderr",
     "output_type": "stream",
     "text": [
      "[Parallel(n_jobs=10)]: Done  30 tasks      | elapsed:    1.1s\n",
      "[Parallel(n_jobs=10)]: Done  50 out of  50 | elapsed:    1.6s finished\n",
      "[Parallel(n_jobs=10)]: Using backend LokyBackend with 10 concurrent workers.\n"
     ]
    },
    {
     "name": "stdout",
     "output_type": "stream",
     "text": [
      "Fitting estimator for alpha_ug = 0.01000, alpha_skeleton = 0.10000, alpha_orient = 0.01000 with 50 bootstrap iterations\n"
     ]
    },
    {
     "name": "stderr",
     "output_type": "stream",
     "text": [
      "[Parallel(n_jobs=10)]: Done  30 tasks      | elapsed:    1.0s\n",
      "[Parallel(n_jobs=10)]: Done  50 out of  50 | elapsed:    1.6s finished\n",
      "[Parallel(n_jobs=10)]: Using backend LokyBackend with 10 concurrent workers.\n"
     ]
    },
    {
     "name": "stdout",
     "output_type": "stream",
     "text": [
      "Fitting estimator for alpha_ug = 0.01000, alpha_skeleton = 0.50000, alpha_orient = 0.00100 with 50 bootstrap iterations\n"
     ]
    },
    {
     "name": "stderr",
     "output_type": "stream",
     "text": [
      "[Parallel(n_jobs=10)]: Done  30 tasks      | elapsed:    1.2s\n",
      "[Parallel(n_jobs=10)]: Done  50 out of  50 | elapsed:    1.7s finished\n",
      "[Parallel(n_jobs=10)]: Using backend LokyBackend with 10 concurrent workers.\n"
     ]
    },
    {
     "name": "stdout",
     "output_type": "stream",
     "text": [
      "Fitting estimator for alpha_ug = 0.01000, alpha_skeleton = 0.50000, alpha_orient = 0.01000 with 50 bootstrap iterations\n"
     ]
    },
    {
     "name": "stderr",
     "output_type": "stream",
     "text": [
      "[Parallel(n_jobs=10)]: Done  30 tasks      | elapsed:    1.2s\n",
      "[Parallel(n_jobs=10)]: Done  50 out of  50 | elapsed:    1.8s finished\n"
     ]
    }
   ],
   "source": [
    "d_dag_stable, stability_scores = dci_stability_selection(X1, X2, alpha_ug_grid = [0.001, 0.01], alpha_skeleton_grid = [0.1, 0.5], alpha_orient_grid = [0.001, 0.01], edge_threshold=0, max_set_size=3, n_jobs = 10, n_bootstrap_iterations=50, random_state=42, verbose=1)"
   ]
  },
  {
   "cell_type": "code",
   "execution_count": 16,
   "metadata": {},
   "outputs": [
    {
     "data": {
      "image/png": "[encoded data removed]",
      "text/plain": [
       "<Figure size 432x288 with 1 Axes>"
      ]
     },
     "metadata": {},
     "output_type": "display_data"
    }
   ],
   "source": [
    "visualize_ddag(d_dag_stable, gene_names)"
   ]
  },
  {
   "cell_type": "code",
   "execution_count": null,
   "metadata": {
    "collapsed": true
   },
   "outputs": [],
   "source": []
  }
 ],
 "metadata": {
  "kernelspec": {
   "display_name": "causaldag2",
   "language": "python",
   "name": "causaldag2"
  },
  "language_info": {
   "codemirror_mode": {
    "name": "ipython",
    "version": 3
   },
   "file_extension": ".py",
   "mimetype": "text/x-python",
   "name": "python",
   "nbconvert_exporter": "python",
   "pygments_lexer": "ipython3",
   "version": "3.8.2"
  }
 },
 "nbformat": 4,
 "nbformat_minor": 2
}
